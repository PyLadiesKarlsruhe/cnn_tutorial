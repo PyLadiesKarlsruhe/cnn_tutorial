{
  "nbformat": 4,
  "nbformat_minor": 0,
  "metadata": {
    "colab": {
      "name": "CNN_digits_keras.ipynb",
      "provenance": [],
      "collapsed_sections": [],
      "toc_visible": true
    },
    "kernelspec": {
      "name": "python3",
      "display_name": "Python 3"
    }
  },
  "cells": [
    {
      "cell_type": "markdown",
      "metadata": {
        "id": "SWg3p-xBoBes",
        "colab_type": "text"
      },
      "source": [
        "In this notebook, we will build and train a special type of neural network, called \"convolutional neural network\" (CNN). If you don't know what a neural network is yet, we suggest you to watch this video first to gain a basic understanding: https://www.youtube.com/watch?v=aircAruvnKk "
      ]
    },
    {
      "cell_type": "markdown",
      "metadata": {
        "id": "j2_c5UOmtHdm",
        "colab_type": "text"
      },
      "source": [
        "# 1. Import packages"
      ]
    },
    {
      "cell_type": "code",
      "metadata": {
        "id": "D-vrvUsa2npY",
        "colab_type": "code",
        "outputId": "3483dfee-6aa2-4688-e596-ac3e9ea32446",
        "colab": {
          "base_uri": "https://localhost:8080/",
          "height": 34
        }
      },
      "source": [
        "try:\n",
        "  # %tensorflow_version only exists in Colab.\n",
        "  %tensorflow_version 2.x\n",
        "except Exception:\n",
        "  pass\n",
        "import tensorflow as tf"
      ],
      "execution_count": 0,
      "outputs": [
        {
          "output_type": "stream",
          "text": [
            "TensorFlow 2.x selected.\n"
          ],
          "name": "stdout"
        }
      ]
    },
    {
      "cell_type": "code",
      "metadata": {
        "id": "XkKBUqcfs8gv",
        "colab_type": "code",
        "colab": {}
      },
      "source": [
        "import numpy as np \n",
        "import matplotlib.pyplot as plt\n",
        "from tensorflow.keras.models import Sequential\n",
        "from tensorflow.keras.layers import Dense, Dropout, Activation, Flatten\n",
        "from tensorflow.keras.layers import Convolution2D, MaxPooling2D\n",
        "from tensorflow.keras.utils import to_categorical\n",
        "from tensorflow.keras.datasets import mnist # the dataset which we will be using is included as a sample dataset in the keras library\n",
        "#from tensorflow.keras import datasets, layers, models"
      ],
      "execution_count": 0,
      "outputs": []
    },
    {
      "cell_type": "markdown",
      "metadata": {
        "id": "yeK1aDkTtcla",
        "colab_type": "text"
      },
      "source": [
        "# 2. Load MNIST data and split into train and test set"
      ]
    },
    {
      "cell_type": "markdown",
      "metadata": {
        "id": "CqSvFjKKty_S",
        "colab_type": "text"
      },
      "source": [
        "The MNIST dataset contains handwritten digits (0 to 9) and is commonly used for training various image processing systems. The MNIST database contains 60,000 training images and 10,000 testing images. Find more information at http://yann.lecun.com/exdb/mnist/ or https://en.wikipedia.org/wiki/MNIST_database \n",
        "https://en.wikipedia.org/wiki/MNIST_database"
      ]
    },
    {
      "cell_type": "code",
      "metadata": {
        "id": "xxgVcVnTtb-Y",
        "colab_type": "code",
        "outputId": "fce39d4e-a6ca-4e97-a724-1d499ca75462",
        "colab": {
          "base_uri": "https://localhost:8080/",
          "height": 51
        }
      },
      "source": [
        "(X_train, y_train), (X_test, y_test) = mnist.load_data()"
      ],
      "execution_count": 0,
      "outputs": [
        {
          "output_type": "stream",
          "text": [
            "Downloading data from https://storage.googleapis.com/tensorflow/tf-keras-datasets/mnist.npz\n",
            "11493376/11490434 [==============================] - 0s 0us/step\n"
          ],
          "name": "stdout"
        }
      ]
    },
    {
      "cell_type": "markdown",
      "metadata": {
        "id": "gCTf7Pvtx96r",
        "colab_type": "text"
      },
      "source": [
        "### 2.1 Let's take a look at some digits"
      ]
    },
    {
      "cell_type": "code",
      "metadata": {
        "id": "KqnjSc1RyEJj",
        "colab_type": "code",
        "outputId": "7e351893-4bd0-4239-a7c4-f467a1d7408c",
        "colab": {
          "base_uri": "https://localhost:8080/",
          "height": 589
        }
      },
      "source": [
        "plt.figure(figsize=(10,10))\n",
        "for i in range(25):\n",
        "    plt.subplot(5,5,i+1)\n",
        "    plt.xticks([])\n",
        "    plt.yticks([])\n",
        "    plt.grid(False)\n",
        "    plt.imshow(X_train[i], cmap=plt.cm.binary)\n",
        "    plt.xlabel(y_train[i])\n",
        "plt.show()\n"
      ],
      "execution_count": 0,
      "outputs": [
        {
          "output_type": "display_data",
          "data": {
            "image/png": "[encoded data removed]",
            "text/plain": [
              "<Figure size 720x720 with 25 Axes>"
            ]
          },
          "metadata": {
            "tags": []
          }
        }
      ]
    },
    {
      "cell_type": "markdown",
      "metadata": {
        "id": "PPr1bmEIu2-Q",
        "colab_type": "text"
      },
      "source": [
        " \n",
        "# 3. Preprocess input data"
      ]
    },
    {
      "cell_type": "code",
      "metadata": {
        "id": "3DrS92KatEXY",
        "colab_type": "code",
        "colab": {}
      },
      "source": [
        "# We have to reshape the data so we can feed it into our neural network in the format that Keras needs.\n",
        "# 28x28 is the size of our images\n",
        "X_train = X_train.reshape(X_train.shape[0], 28, 28, 1)\n",
        "X_test = X_test.reshape(X_test.shape[0], 28, 28, 1)\n",
        "X_train = X_train.astype('float32')\n",
        "X_test = X_test.astype('float32')\n",
        "X_train /= 255 # we want all values to be between 0 and 1 (not 0 and 255 as before)\n",
        "X_test /= 255\n",
        " \n",
        "# Preprocess class label\n",
        "Y_train = to_categorical(y_train, 10) # converts a class vector to binary class matrix (see next cells) \n",
        "# See https://www.tensorflow.org/api_docs/python/tf/keras/utils/to_categorical \n",
        "Y_test = to_categorical(y_test, 10)\n",
        " "
      ],
      "execution_count": 0,
      "outputs": []
    },
    {
      "cell_type": "code",
      "metadata": {
        "id": "AooZe9cnaC6y",
        "colab_type": "code",
        "outputId": "a5c3bdfa-6a09-49cd-c342-e5a6e5661979",
        "colab": {
          "base_uri": "https://localhost:8080/",
          "height": 34
        }
      },
      "source": [
        "# Let's take a look at what the X_train data now looks like\n",
        "X_train.shape"
      ],
      "execution_count": 0,
      "outputs": [
        {
          "output_type": "execute_result",
          "data": {
            "text/plain": [
              "(60000, 28, 28, 1)"
            ]
          },
          "metadata": {
            "tags": []
          },
          "execution_count": 10
        }
      ]
    },
    {
      "cell_type": "code",
      "metadata": {
        "id": "_YExCR4BwQic",
        "colab_type": "code",
        "outputId": "c1f9de8a-022f-4f86-88d2-d05258ec416b",
        "colab": {
          "base_uri": "https://localhost:8080/",
          "height": 34
        }
      },
      "source": [
        "y_train  # This is the original y_train"
      ],
      "execution_count": 0,
      "outputs": [
        {
          "output_type": "execute_result",
          "data": {
            "text/plain": [
              "array([5, 0, 4, ..., 5, 6, 8], dtype=uint8)"
            ]
          },
          "metadata": {
            "tags": []
          },
          "execution_count": 11
        }
      ]
    },
    {
      "cell_type": "code",
      "metadata": {
        "id": "BjeXbXskwUsC",
        "colab_type": "code",
        "outputId": "418eeb39-ca67-4f47-c11c-58e2b7a3b841",
        "colab": {
          "base_uri": "https://localhost:8080/",
          "height": 136
        }
      },
      "source": [
        "Y_train  # This is after the transformation (to_categorical)"
      ],
      "execution_count": 0,
      "outputs": [
        {
          "output_type": "execute_result",
          "data": {
            "text/plain": [
              "array([[0., 0., 0., ..., 0., 0., 0.],\n",
              "       [1., 0., 0., ..., 0., 0., 0.],\n",
              "       [0., 0., 0., ..., 0., 0., 0.],\n",
              "       ...,\n",
              "       [0., 0., 0., ..., 0., 0., 0.],\n",
              "       [0., 0., 0., ..., 0., 0., 0.],\n",
              "       [0., 0., 0., ..., 0., 1., 0.]], dtype=float32)"
            ]
          },
          "metadata": {
            "tags": []
          },
          "execution_count": 12
        }
      ]
    },
    {
      "cell_type": "markdown",
      "metadata": {
        "id": "jSaYN5DywI0q",
        "colab_type": "text"
      },
      "source": [
        "# 4. Define the model"
      ]
    },
    {
      "cell_type": "markdown",
      "metadata": {
        "id": "NCQ5MklEy7X6",
        "colab_type": "text"
      },
      "source": [
        "As input, a CNN takes tensors of shape (image_height, image_width, color_channels). Color_channels refers to (R,G,B). In this example, we will configure our CNN to process inputs of shape (28, 28, 1), which is the format of the greyscale MNIST images. First, we will add the convolutional layers:"
      ]
    },
    {
      "cell_type": "code",
      "metadata": {
        "id": "QzwdwkNbwJPK",
        "colab_type": "code",
        "colab": {}
      },
      "source": [
        "model = Sequential()\n",
        " \n",
        "model.add(Convolution2D(32, kernel_size = (3, 3), activation='relu', input_shape=(28, 28, 1)))\n",
        "#model.add(Convolution2D(32, kernel_size = (3, 3), activation='relu'))\n",
        "model.add(MaxPooling2D(pool_size=(2,2)))\n"
      ],
      "execution_count": 0,
      "outputs": []
    },
    {
      "cell_type": "markdown",
      "metadata": {
        "id": "AAAchJO8DdxW",
        "colab_type": "text"
      },
      "source": [
        "Now we will add a dropout layer. Using “dropout”, you randomly deactivate certain neurons in a layer. Thus, the neural network won’t be able to rely on particular activations and can become more robust. More info: https://sebastianraschka.com/faq/docs/dropout.html and https://machinelearningmastery.com/dropout-for-regularizing-deep-neural-networks/\n"
      ]
    },
    {
      "cell_type": "code",
      "metadata": {
        "id": "zr91Qh8RDaMA",
        "colab_type": "code",
        "colab": {}
      },
      "source": [
        "model.add(Dropout(0.25))"
      ],
      "execution_count": 0,
      "outputs": []
    },
    {
      "cell_type": "markdown",
      "metadata": {
        "id": "49ZFkH241Pni",
        "colab_type": "text"
      },
      "source": [
        "Dense layers take vectors as input (which are 1D), while the output of the first layers is 3D. Therefore, we will flatten (or unroll) the 3D output to 1D, then add one or more Dense layers on top. MNIST has 10 output classes, so we use a final Dense layer with 10 outputs and a softmax activation. (Softmax transforms the output so that it can be interpreted as probabilities, more info on softmax: https://en.wikipedia.org/wiki/Softmax_function)"
      ]
    },
    {
      "cell_type": "code",
      "metadata": {
        "id": "3sCbkPhDDRDG",
        "colab_type": "code",
        "colab": {}
      },
      "source": [
        "# EXERCISE try to improve the model :-)\n",
        "model.add(Flatten())\n",
        "model.add(Dense(64, activation='relu'))\n",
        "model.add(Dense(10, activation='softmax'))"
      ],
      "execution_count": 0,
      "outputs": []
    },
    {
      "cell_type": "markdown",
      "metadata": {
        "id": "B_lRn0PzDPzM",
        "colab_type": "text"
      },
      "source": [
        "This is a summary of all layers of our model:"
      ]
    },
    {
      "cell_type": "code",
      "metadata": {
        "id": "fg1ivgPJ1B5O",
        "colab_type": "code",
        "outputId": "00d0ca9b-80a3-4dc0-aad5-627d0dcbce32",
        "colab": {
          "base_uri": "https://localhost:8080/",
          "height": 391
        }
      },
      "source": [
        "model.summary()"
      ],
      "execution_count": 0,
      "outputs": [
        {
          "output_type": "stream",
          "text": [
            "Model: \"sequential_3\"\n",
            "_________________________________________________________________\n",
            "Layer (type)                 Output Shape              Param #   \n",
            "=================================================================\n",
            "conv2d_3 (Conv2D)            (None, 26, 26, 32)        320       \n",
            "_________________________________________________________________\n",
            "max_pooling2d_2 (MaxPooling2 (None, 13, 13, 32)        0         \n",
            "_________________________________________________________________\n",
            "dropout_6 (Dropout)          (None, 13, 13, 32)        0         \n",
            "_________________________________________________________________\n",
            "flatten_3 (Flatten)          (None, 5408)              0         \n",
            "_________________________________________________________________\n",
            "dense_6 (Dense)              (None, 128)               692352    \n",
            "_________________________________________________________________\n",
            "dropout_7 (Dropout)          (None, 128)               0         \n",
            "_________________________________________________________________\n",
            "dense_7 (Dense)              (None, 10)                1290      \n",
            "=================================================================\n",
            "Total params: 693,962\n",
            "Trainable params: 693,962\n",
            "Non-trainable params: 0\n",
            "_________________________________________________________________\n"
          ],
          "name": "stdout"
        }
      ]
    },
    {
      "cell_type": "markdown",
      "metadata": {
        "id": "o0_vq-rGwlMw",
        "colab_type": "text"
      },
      "source": [
        "# 5. Compile model"
      ]
    },
    {
      "cell_type": "markdown",
      "metadata": {
        "id": "05x6bWxVFZh7",
        "colab_type": "text"
      },
      "source": [
        "Compiling basically means defining the loss function, the optimizer and the metrics of our model. These options depend on the problem you are trying to solve, you can find the best techniques reading the literature in the field. For a classification task categorical cross-entropy as loss function usually works very well. "
      ]
    },
    {
      "cell_type": "code",
      "metadata": {
        "id": "arzlbSFawmiU",
        "colab_type": "code",
        "colab": {}
      },
      "source": [
        "model.compile(loss='categorical_crossentropy',\n",
        "              optimizer='adam',\n",
        "              metrics=['accuracy'])"
      ],
      "execution_count": 0,
      "outputs": []
    },
    {
      "cell_type": "markdown",
      "metadata": {
        "id": "YDlcjPtwwoQE",
        "colab_type": "text"
      },
      "source": [
        " \n",
        "# 6. Fit model on training data"
      ]
    },
    {
      "cell_type": "code",
      "metadata": {
        "id": "JwH5fwoVwsd0",
        "colab_type": "code",
        "outputId": "18773b08-1ff5-44cf-f91a-54513ca8ea20",
        "colab": {
          "base_uri": "https://localhost:8080/",
          "height": 51
        }
      },
      "source": [
        "history = model.fit(X_train, Y_train, \n",
        "          batch_size=32, epochs=1, verbose=1)"
      ],
      "execution_count": 0,
      "outputs": [
        {
          "output_type": "stream",
          "text": [
            "Train on 60000 samples\n",
            "60000/60000 [==============================] - 41s 690us/sample - loss: 0.2462 - accuracy: 0.9245\n"
          ],
          "name": "stdout"
        }
      ]
    },
    {
      "cell_type": "markdown",
      "metadata": {
        "id": "NTYSVvOgwvQP",
        "colab_type": "text"
      },
      "source": [
        " \n",
        "# 7. Evaluate model on test data\n",
        "\n"
      ]
    },
    {
      "cell_type": "code",
      "metadata": {
        "id": "4OMh6aDGwuLl",
        "colab_type": "code",
        "colab": {}
      },
      "source": [
        "test_predictions = model.predict(X_test)\n",
        "score = model.evaluate(X_test, Y_test, verbose=0)"
      ],
      "execution_count": 0,
      "outputs": []
    },
    {
      "cell_type": "code",
      "metadata": {
        "id": "Q-y0lV3C5EQz",
        "colab_type": "code",
        "outputId": "751342d5-476b-442b-e759-42b99febb815",
        "colab": {
          "base_uri": "https://localhost:8080/",
          "height": 34
        }
      },
      "source": [
        "print(score) "
      ],
      "execution_count": 0,
      "outputs": [
        {
          "output_type": "stream",
          "text": [
            "[0.06854339779503643, 0.9782]\n"
          ],
          "name": "stdout"
        }
      ]
    },
    {
      "cell_type": "code",
      "metadata": {
        "id": "FfUXLEEY14do",
        "colab_type": "code",
        "colab": {}
      },
      "source": [
        "from sklearn.metrics import confusion_matrix # see https://scikit-learn.org/stable/modules/generated/sklearn.metrics.confusion_matrix.html\n",
        "confusion = confusion_matrix(y_test, np.argmax(test_predictions,axis=1))"
      ],
      "execution_count": 0,
      "outputs": []
    },
    {
      "cell_type": "code",
      "metadata": {
        "id": "sg1xqRIR5ytM",
        "colab_type": "code",
        "outputId": "d11f4adb-1785-4134-f33e-2b3360207997",
        "colab": {
          "base_uri": "https://localhost:8080/",
          "height": 187
        }
      },
      "source": [
        "confusion # here we can see how often each digit was misclassified"
      ],
      "execution_count": 0,
      "outputs": [
        {
          "output_type": "execute_result",
          "data": {
            "text/plain": [
              "array([[ 971,    0,    3,    0,    0,    0,    3,    1,    2,    0],\n",
              "       [   0, 1126,    3,    1,    0,    0,    3,    0,    2,    0],\n",
              "       [   2,    4, 1014,    0,    3,    0,    1,    6,    2,    0],\n",
              "       [   0,    0,    4,  991,    0,    4,    0,    6,    3,    2],\n",
              "       [   1,    0,    5,    0,  968,    0,    0,    0,    2,    6],\n",
              "       [   2,    0,    0,   12,    0,  868,    6,    0,    4,    0],\n",
              "       [   5,    3,    0,    0,    3,    2,  942,    0,    3,    0],\n",
              "       [   1,    5,   18,    1,    1,    0,    0,  988,    1,   13],\n",
              "       [   9,    0,    5,    3,    3,    3,    0,    5,  939,    7],\n",
              "       [   7,    6,    1,    4,    6,    3,    0,    4,    3,  975]])"
            ]
          },
          "metadata": {
            "tags": []
          },
          "execution_count": 34
        }
      ]
    },
    {
      "cell_type": "markdown",
      "metadata": {
        "id": "Vx8EyXRRxmVO",
        "colab_type": "text"
      },
      "source": [
        "# 8 Further resources"
      ]
    },
    {
      "cell_type": "markdown",
      "metadata": {
        "id": "G42e99Ypxmfm",
        "colab_type": "text"
      },
      "source": [
        "\n",
        "* https://towardsdatascience.com/applied-deep-learning-part-4-convolutional-neural-networks-584bc134c1e2\n",
        "* https://www.youtube.com/watch?v=YRhxdVk_sIs\n",
        "* https://adeshpande3.github.io/A-Beginner%27s-Guide-To-Understanding-Convolutional-Neural-Networks/\n",
        "* https://deeplizard.com/learn/video/RznKVRTFkBY\n",
        "*   https://www.tensorflow.org/tutorials/images/cnn\n",
        "*   https://elitedatascience.com/keras-tutorial-deep-learning-in-python\n",
        "* https://www.edureka.co/blog/convolutional-neural-network/ \n",
        "\n",
        "\n",
        "\n",
        "\n"
      ]
    },
    {
      "cell_type": "code",
      "metadata": {
        "id": "H6vLmJrb80sz",
        "colab_type": "code",
        "colab": {}
      },
      "source": [
        ""
      ],
      "execution_count": 0,
      "outputs": []
    }
  ]
}